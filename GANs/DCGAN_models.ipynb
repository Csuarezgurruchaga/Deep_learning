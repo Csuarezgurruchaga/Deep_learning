{
 "cells": [
  {
   "attachments": {},
   "cell_type": "markdown",
   "metadata": {},
   "source": [
    "Implementing a DCGAN (Deep Convolutional Generative Adversarial Net) from the paper 'Unsupervised Representation Learning with Deep Convolutional Generative Adversarial Networks'(2016).\n",
    "\n",
    "<u>Architecture guidelines for stable Deep Convolutional GANs:</u><br>\n",
    "* Replace any pooling layers with strided convolutions (Discriminator) and fractional-strided convolutions (generator).\n",
    "* Use batchnorm in both the Generator and the Discriminator.(*)\n",
    "* Remove fully connected hidden layers for deeper architectures.\n",
    "* Use ReLU activation in Generator for all layers except for the output, which uses Tanh.\n",
    "* Use LeakyReLU activation in the discriminator for all layers.<br>\n",
    "\n",
    "(*) I didn't use batchnorm in the first layer of the Discriminator and also i didn't use it in the last layer of the Generator (according to the paper).\n",
    "<br>\n",
    "\n",
    "### *In this notebook i will implement the Discriminator and the Generator.*"
   ]
  },
  {
   "cell_type": "code",
   "execution_count": 17,
   "metadata": {},
   "outputs": [
    {
     "name": "stdout",
     "output_type": "stream",
     "text": [
      "Funca!!\n"
     ]
    }
   ],
   "source": [
    "import torch\n",
    "import torch.nn as nn\n",
    "\n",
    "class Discriminator(nn.Module):\n",
    "    def __init__(self, channels_img, n_features_map_disc):\n",
    "        super(Discriminator, self).__init__()\n",
    "        self.disc = nn.Sequential(\n",
    "            # Input: N x channels_img x 64 x 64\n",
    "            nn.Conv2d(channels_img, n_features_map_disc, kernel_size= 4, stride= 2, padding= 1), # 32 x 32\n",
    "            nn.LeakyReLU(0.2),\n",
    "            self._block(n_features_map_disc, n_features_map_disc*2, kernel_s = 4,stride= 2, pad = 1), # 16 x 16\n",
    "            self._block(n_features_map_disc*2, n_features_map_disc*4, kernel_s = 4,stride= 2, pad = 1), # 8 x 8\n",
    "            self._block(n_features_map_disc*4, n_features_map_disc*8, kernel_s = 4,stride= 2, pad = 1), # 4 x 4\n",
    "            # After all _block img output is 4x4 (Conv2d below makes into 1x1)\n",
    "            nn.Conv2d(n_features_map_disc*8, 1, kernel_size= 4, stride= 2, padding= 0), # 1 x 1 output = Real or Fake img\n",
    "            nn.Sigmoid(), # output from 0-1\n",
    "            )\n",
    "        \n",
    "    def _block(self, in_chan, out_chan, kernel_s, stride, pad):\n",
    "        return nn.Sequential(\n",
    "            nn.Conv2d(\n",
    "                in_channels = in_chan,\n",
    "                out_channels = out_chan,\n",
    "                kernel_size = kernel_s,\n",
    "                stride = stride,\n",
    "                padding=pad,\n",
    "                bias = False, # because we use batchnorm, so we dont need to use the bias\n",
    "            ),\n",
    "            nn.BatchNorm2d(num_features= out_chan),\n",
    "            nn.LeakyReLU(negative_slope = 0.2),\n",
    "        )\n",
    "    \n",
    "    def forward(self, x):\n",
    "        return self.disc(x)\n",
    "    \n",
    "    \n",
    "\n",
    "class Generator(nn.Module):\n",
    "    def __init__(self, z_dim, channels_img, n_features_map_gen): # z_dim its the dimension of the noise\n",
    "        super(Generator, self).__init__()\n",
    "        self.gen = nn.Sequential(\n",
    "        # Input: N x z_dim x 1 x 1\n",
    "        # Note: This hiperparameter are extracted from the Figure of the paper\n",
    "            self._block(z_dim, n_features_map_gen*16,kernel_s=4, stride=1, pad=0), # N x f_g*16 x 4 x 4\n",
    "            self._block(n_features_map_gen*16, n_features_map_gen*8,kernel_s=4, stride= 2, pad=1), # 8 x 8\n",
    "            self._block(n_features_map_gen*8, n_features_map_gen*4,kernel_s=4, stride= 2, pad=1), # 16 x 16\n",
    "            self._block(n_features_map_gen*4, n_features_map_gen*2,kernel_s=4, stride= 2, pad=1), # 32 x 32\n",
    "        nn.ConvTranspose2d(\n",
    "            n_features_map_gen*2, out_channels= channels_img, kernel_size=4, stride=2, padding= 1,\n",
    "        ),\n",
    "        nn.Tanh() # normalize inputs are in the range [-1, 1], so we use Tanh to make outputs gen in the range[-1, 1]\n",
    "        )\n",
    "        \n",
    "    def _block(self, in_chan, out_chan, kernel_s, stride, pad):\n",
    "        return nn.Sequential(\n",
    "            nn.ConvTranspose2d(     # to upsampling the fake image\n",
    "                in_channels = in_chan,\n",
    "                out_channels = out_chan,\n",
    "                kernel_size = kernel_s,\n",
    "                stride = stride,\n",
    "                padding=pad,\n",
    "                bias = False,  # because we use batchnorm, so we dont need to use the bias\n",
    "            ),\n",
    "            nn.BatchNorm2d(num_features= out_chan),\n",
    "            nn.ReLU(),\n",
    "        )\n",
    "    \n",
    "    def forward(self, x):\n",
    "        return self.gen(x)  \n",
    "\n",
    "# we have to initialize the weights like the paper says\n",
    "def initialize_weights(model):\n",
    "    for m in model.modules():\n",
    "        if isinstance(m, (nn.Conv2d, nn.ConvTranspose2d, nn.BatchNorm2d)):\n",
    "            nn.init.normal_(m.weight.data, 0.0, 0.02)\n",
    "\n",
    "# For testing the dimension of the model architecture \n",
    "def test():\n",
    "    N, in_channels, H, W = 8, 3, 64, 64\n",
    "    z_dim = 100\n",
    "    x = torch.randn((N, in_channels, H, W))\n",
    "    disc = Discriminator(channels_img=in_channels, n_features_map_disc= 8)\n",
    "    initialize_weights(disc)\n",
    "    assert disc(x).shape == (N, 1, 1, 1) # We want one value per sample, so we check the dimension of disc(x)\n",
    "    gen = Generator(z_dim, in_channels,8)\n",
    "    initialize_weights(gen)\n",
    "    z = torch.randn((N, z_dim, 1, 1))\n",
    "    assert gen(z).shape == (N, in_channels, H, W)\n",
    "    print(\"Funca!!\")\n",
    "    \n",
    "    \n",
    "# test()"
   ]
  },
  {
   "cell_type": "code",
   "execution_count": null,
   "metadata": {},
   "outputs": [],
   "source": []
  },
  {
   "cell_type": "code",
   "execution_count": null,
   "metadata": {},
   "outputs": [],
   "source": []
  },
  {
   "cell_type": "code",
   "execution_count": null,
   "metadata": {},
   "outputs": [],
   "source": []
  }
 ],
 "metadata": {
  "kernelspec": {
   "display_name": "redes",
   "language": "python",
   "name": "python3"
  },
  "language_info": {
   "codemirror_mode": {
    "name": "ipython",
    "version": 3
   },
   "file_extension": ".py",
   "mimetype": "text/x-python",
   "name": "python",
   "nbconvert_exporter": "python",
   "pygments_lexer": "ipython3",
   "version": "3.8.8"
  },
  "orig_nbformat": 4,
  "vscode": {
   "interpreter": {
    "hash": "466813897a52447f1831c184b0700fb7b7f042a70becf90568dd3beaa877b3ca"
   }
  }
 },
 "nbformat": 4,
 "nbformat_minor": 2
}
