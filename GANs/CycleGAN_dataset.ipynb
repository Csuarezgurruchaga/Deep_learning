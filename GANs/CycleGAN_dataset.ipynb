{
 "cells": [
  {
   "cell_type": "code",
   "execution_count": 3,
   "metadata": {},
   "outputs": [],
   "source": [
    "from PIL import Image\n",
    "import os\n",
    "from torch.utils.data import Dataset\n",
    "import numpy as np\n",
    "\n",
    "class HorseZebraDataset(Dataset):\n",
    "    def __init__(self, root_zebra, root_horse, transform = None):\n",
    "        self.root_zebra = root_zebra\n",
    "        self.root_horse = root_horse\n",
    "        self.transform = transform\n",
    "        \n",
    "        self.zebra_images = os.listdir(root_zebra)\n",
    "        self.horse_images = os.listdir(root_horse)\n",
    "        self.length_dataset = max(len(self.zebra_images), len(self.horse_images)) \n",
    "        self.zebra_len = len(self.zebra_images)\n",
    "        self.horse_len = len(self.horse_images)\n",
    "\n",
    "    def __len__(self):\n",
    "        return self.length_dataset # return the maximum lenght of the dataset\n",
    "    \n",
    "    def __getitem__(self, index): # to ensure to avoid errors with idx if we select the minor class\n",
    "        zebra_img = self.zebra_images[index % self.zebra_len] \n",
    "        horse_img = self.horse_images[index % self.horse_len]\n",
    "        \n",
    "        zebra_path = os.path.join(self.root_zebra, zebra_img)\n",
    "        horse_path = os.path.join(self.root_horse, horse_img)\n",
    "        \n",
    "        zebra_img = np.array(Image.open(zebra_path).convert(\"RGB\")) # we also convert in RGB just in case we got an image in grey scale\n",
    "        horse_img = np.array(Image.open(horse_path).convert(\"RGB\"))\n",
    "        \n",
    "        if self.transform:\n",
    "            augmentations = self.transform(image = zebra_img, image0 = horse_img) # to assure we perform the same transformation to the zebra and the horse\n",
    "            zebra_img = augmentations[\"image\"]\n",
    "            horse_img = augmentations[\"image0\"]\n",
    "        return zebra_img, horse_img"
   ]
  },
  {
   "cell_type": "code",
   "execution_count": null,
   "metadata": {},
   "outputs": [],
   "source": []
  }
 ],
 "metadata": {
  "kernelspec": {
   "display_name": "redes",
   "language": "python",
   "name": "python3"
  },
  "language_info": {
   "codemirror_mode": {
    "name": "ipython",
    "version": 3
   },
   "file_extension": ".py",
   "mimetype": "text/x-python",
   "name": "python",
   "nbconvert_exporter": "python",
   "pygments_lexer": "ipython3",
   "version": "3.8.8"
  },
  "orig_nbformat": 4,
  "vscode": {
   "interpreter": {
    "hash": "466813897a52447f1831c184b0700fb7b7f042a70becf90568dd3beaa877b3ca"
   }
  }
 },
 "nbformat": 4,
 "nbformat_minor": 2
}
