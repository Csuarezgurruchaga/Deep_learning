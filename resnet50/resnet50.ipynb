{
  "cells": [
    {
      "cell_type": "markdown",
      "metadata": {
        "id": "8rSs52SOmtAO"
      },
      "source": [
        "Here im doing transfer learning and fine tunning with a resnet50 and pytorch, to classify bees and ants"
      ]
    },
    {
      "cell_type": "code",
      "source": [
        "#@title colab sincronization and dict of labels\n",
        "from google.colab import drive\n",
        "drive.mount('/content/drive')\n",
        "\n",
        "label_dic = {0:'Ant',\n",
        "             1:'Bee'}"
      ],
      "metadata": {
        "colab": {
          "base_uri": "https://localhost:8080/"
        },
        "id": "hkliWcyTFL5c",
        "outputId": "c7f312c4-8260-4e5d-e593-165aa3bc1d4a"
      },
      "execution_count": 1,
      "outputs": [
        {
          "output_type": "stream",
          "name": "stdout",
          "text": [
            "Mounted at /content/drive\n"
          ]
        }
      ]
    },
    {
      "cell_type": "code",
      "execution_count": 4,
      "metadata": {
        "colab": {
          "base_uri": "https://localhost:8080/"
        },
        "id": "acMukUmR8vul",
        "outputId": "2c31584e-482a-494a-a610-71fd2435f30a"
      },
      "outputs": [
        {
          "output_type": "stream",
          "name": "stdout",
          "text": [
            "['ants', 'bees']\n"
          ]
        }
      ],
      "source": [
        "import os\n",
        "import copy\n",
        "import torch\n",
        "import torch.nn as nn\n",
        "from torch.utils.data import DataLoader, dataset\n",
        "from torchvision import transforms, datasets, models\n",
        "from torch.optim import lr_scheduler\n",
        "import numpy as np\n",
        "import matplotlib.pyplot as plt\n",
        "\n",
        "\n",
        "mean_data = torch.tensor([0.485, 0.456, 0.406])\n",
        "std_data = torch.tensor([0.229, 0.224, 0.225])\n",
        "# Define a transform to preprocess the input images\n",
        "data_transforms = {\n",
        "    'train': transforms.Compose([\n",
        "        transforms.RandomResizedCrop(224),\n",
        "        transforms.RandomHorizontalFlip(),\n",
        "        transforms.ToTensor(),\n",
        "        transforms.Normalize(mean_data, std_data) # Normalize the pixel values\n",
        "    ]),\n",
        "    'validation': transforms.Compose([\n",
        "        transforms.Resize(256),\n",
        "        transforms.CenterCrop(224),\n",
        "        transforms.ToTensor(),\n",
        "        transforms.Normalize(mean_data, std_data) # Normalize the pixel values\n",
        "    ])\n",
        "}\n",
        "\n",
        "# Import Data\n",
        "\n",
        "data_dir = '/content/drive/MyDrive/Colab Notebooks/data_resnet50'\n",
        "sets = ['train', 'validation']\n",
        "image_datasets = {x:datasets.ImageFolder(os.path.join(data_dir, x), \n",
        "                                         data_transforms[x])\n",
        "                  for x in ['train', 'validation']}\n",
        "\n",
        "dataloaders = {x: DataLoader(image_datasets[x], batch_size = 4,\n",
        "                             shuffle = True)\n",
        "               for x in ['train', 'validation']}\n",
        "\n",
        "\n",
        "dataset_sizes = {x: len(image_datasets[x]) for x in ['train', 'validation']}\n",
        "class_names = image_datasets['train'].classes\n",
        "print(class_names)\n",
        "\n",
        "# Training \n",
        "def train_model(model, criterion, optimazer, scheduler, num_epochs = 10):\n",
        "    \n",
        "    best_model_wts = copy.deepcopy(model.state_dict())\n",
        "    best_acc = 0.0\n",
        "    \n",
        "    for epoch in range(num_epochs):\n",
        "        print(f'Epoch {epoch}/{num_epochs - 1}')\n",
        "        print('-' * 10)\n",
        "        \n",
        "        #Each epoch has a training and validation phase\n",
        "        for phase in ['train', 'validation']:\n",
        "            if phase == 'train':\n",
        "                model.train() # set the model in training mode\n",
        "            else:\n",
        "                model.eval()  # set the model in evaluation mode\n",
        "            running_loss = 0.0\n",
        "            running_corrects = 0\n",
        "                \n",
        "                \n",
        "            # iterate over data\n",
        "            for inputs, labels in dataloaders[phase]:\n",
        "                inputs = inputs.to(device)\n",
        "                labels = labels.to(device)\n",
        "                \n",
        "                #forward\n",
        "                #track history if only in train\n",
        "                with torch.set_grad_enabled(phase == 'train'):\n",
        "                    outputs = model(inputs)\n",
        "                    _, preds = torch.max(outputs, 1)\n",
        "                    loss = criterion(outputs, labels)\n",
        "                    \n",
        "                #backward + optimize, only if is training phase\n",
        "                if phase == 'train':\n",
        "                    # Clean the gradients of the parameters to optimize. \n",
        "                    optimizer.zero_grad()\n",
        "                    loss.backward()\n",
        "                    optimizer.step() # Updating the weights\n",
        "            \n",
        "            #statistics\n",
        "            running_loss +=loss.item()* inputs.size(0)\n",
        "            running_corrects += torch.sum(preds == labels.data)\n",
        "            \n",
        "        if phase == 'train':\n",
        "            scheduler.step()\n",
        "        \n",
        "        epoch_loss = running_loss / dataset_sizes[phase]\n",
        "        epoch_acc = running_corrects.double()/ dataset_sizes[phase]\n",
        "        \n",
        "        print(f'{phase} Loss: {epoch_loss:.4f} Acc: {epoch_acc:.4f}')\n",
        "        \n",
        "        #deep copy the model \n",
        "        if phase == 'validation' and epoch_acc > best_acc:\n",
        "            best_acc = epoch_acc\n",
        "            best_model_wts = copy.deepcopy(model.state_dict())\n",
        "    \n",
        "    print()\n",
        "    \n",
        "    print(f'Training Complete, Best Val Acc: {best_acc:.4f}')\n",
        "    \n",
        "    # Load best model Weights\n",
        "    model.load_state_dict(best_model_wts)\n",
        "    return model"
      ]
    },
    {
      "cell_type": "code",
      "execution_count": 5,
      "metadata": {
        "colab": {
          "base_uri": "https://localhost:8080/",
          "height": 804,
          "referenced_widgets": [
            "1a04c80f11ee47d599941c550ea38e3a",
            "e1874c5cc90d4543b4f5b516c5391f54",
            "5cb7b9dc44dc4417843a866032f7353f",
            "51d2680970c449e4ad4d5772c3458596",
            "232f827be7674cf79a188b709b072bea",
            "f2d01a0cf1794d60be8497b8aa930ea4",
            "a38b35b9361a4965885a14e623b77fdd",
            "b7d7660b694741d9920c0f266c5cb887",
            "5c196b93a8644f9c97357d0fc0427347",
            "156ff24070a24fcdb0eb933fa8aed04a",
            "f28afbe6c83342c5bf3b12fa4ba44284"
          ]
        },
        "id": "zsoLoUSg8vup",
        "outputId": "917253d2-98bb-45b6-ddb5-d40074c07067"
      },
      "outputs": [
        {
          "output_type": "stream",
          "name": "stderr",
          "text": [
            "/usr/local/lib/python3.8/dist-packages/torchvision/models/_utils.py:208: UserWarning: The parameter 'pretrained' is deprecated since 0.13 and may be removed in the future, please use 'weights' instead.\n",
            "  warnings.warn(\n",
            "/usr/local/lib/python3.8/dist-packages/torchvision/models/_utils.py:223: UserWarning: Arguments other than a weight enum or `None` for 'weights' are deprecated since 0.13 and may be removed in the future. The current behavior is equivalent to passing `weights=ResNet50_Weights.IMAGENET1K_V1`. You can also use `weights=ResNet50_Weights.DEFAULT` to get the most up-to-date weights.\n",
            "  warnings.warn(msg)\n",
            "Downloading: \"https://download.pytorch.org/models/resnet50-0676ba61.pth\" to /root/.cache/torch/hub/checkpoints/resnet50-0676ba61.pth\n"
          ]
        },
        {
          "output_type": "display_data",
          "data": {
            "text/plain": [
              "  0%|          | 0.00/97.8M [00:00<?, ?B/s]"
            ],
            "application/vnd.jupyter.widget-view+json": {
              "version_major": 2,
              "version_minor": 0,
              "model_id": "1a04c80f11ee47d599941c550ea38e3a"
            }
          },
          "metadata": {}
        },
        {
          "output_type": "stream",
          "name": "stdout",
          "text": [
            "Epoch 0/10\n",
            "----------\n",
            "validation Loss: 0.0483 Acc: 0.0000\n",
            "Epoch 1/10\n",
            "----------\n",
            "validation Loss: 0.0000 Acc: 0.0067\n",
            "Epoch 2/10\n",
            "----------\n",
            "validation Loss: 0.0000 Acc: 0.0067\n",
            "Epoch 3/10\n",
            "----------\n",
            "validation Loss: 0.0004 Acc: 0.0067\n",
            "Epoch 4/10\n",
            "----------\n",
            "validation Loss: 0.0000 Acc: 0.0067\n",
            "Epoch 5/10\n",
            "----------\n",
            "validation Loss: 0.0001 Acc: 0.0067\n",
            "Epoch 6/10\n",
            "----------\n",
            "validation Loss: 0.0000 Acc: 0.0067\n",
            "Epoch 7/10\n",
            "----------\n",
            "validation Loss: 0.0000 Acc: 0.0067\n",
            "Epoch 8/10\n",
            "----------\n",
            "validation Loss: 0.0000 Acc: 0.0067\n",
            "Epoch 9/10\n",
            "----------\n",
            "validation Loss: 0.0000 Acc: 0.0067\n",
            "Epoch 10/10\n",
            "----------\n",
            "validation Loss: 0.0000 Acc: 0.0067\n",
            "\n",
            "Training Complete, Best Val Acc: 0.0067\n"
          ]
        }
      ],
      "source": [
        "model = models.resnet50(pretrained = True)\n",
        "\n",
        "# Now we will freeze the first layers of the NN, to train the weights only \n",
        "# of the latest layer\n",
        "for param in model.parameters():\n",
        "    param.requires_grad = False\n",
        "\n",
        "# The resnet50 was trained on ImageNet dataset, that's why it has 1000 labels in \n",
        "# the output layer (out_features), in our implementation, we want to classify only \n",
        "# 2 labels(bees & ants, so, we will edit the last layer of the resnet.\n",
        "\n",
        "num_classes = 2\n",
        "num_ftrs = model.fc.in_features\n",
        "model.fc = nn.Linear(num_ftrs, num_classes)\n",
        "\n",
        "\n",
        "# model to GPU\n",
        "device = torch.device(\"cuda:0\") \n",
        "model.to(device)\n",
        "\n",
        "\n",
        "# Define a loss function and an optimizer\n",
        "criterion = torch.nn.CrossEntropyLoss()\n",
        "learning_rate = 1e-2\n",
        "optimizer = torch.optim.Adam(model.parameters(), lr = learning_rate)\n",
        "# optimizer = torch.optim.RMSprop(model.parameters(), lr = learning_rate)\n",
        "# optimizer = torch.optim.Adadelta(model.parameters(), lr = learning_rate)\n",
        "\n",
        "# Every 7 epochs our learning rate its only update 10%.\n",
        "step_lr_scheduler = lr_scheduler.StepLR(optimizer, step_size=7, gamma = 0.1)\n",
        "\n",
        "model = train_model(model, criterion, optimizer, step_lr_scheduler, num_epochs= 11)"
      ]
    },
    {
      "cell_type": "markdown",
      "source": [
        "OPTIONAL: SAVING THE WEIGHTS"
      ],
      "metadata": {
        "id": "Kcf_xn7M6Jfj"
      }
    },
    {
      "cell_type": "code",
      "execution_count": null,
      "metadata": {
        "id": "DwHqbzsRBL8A"
      },
      "outputs": [],
      "source": [
        "# torch.save(model.state_dict(), \"./resnet50_finetuned.pth\") # saving the weights"
      ]
    },
    {
      "cell_type": "code",
      "execution_count": null,
      "metadata": {
        "id": "AlYMDqctLazA"
      },
      "outputs": [],
      "source": [
        "# model_loaded = models.resnet50(pretrained = True) # Loading the weights that i saved before\n",
        "\n",
        "# num_classes = 2\n",
        "# num_ftrs = model_loaded.fc.in_features\n",
        "# model_loaded.fc = nn.Linear(num_ftrs, num_classes)\n",
        "\n",
        "# model_loaded.load_state_dict(torch.load(\"./resnet50_finetuned.pth\"))\n",
        "# model_loaded.to(device)"
      ]
    },
    {
      "cell_type": "code",
      "execution_count": 7,
      "metadata": {
        "id": "XS4figvt8vur",
        "colab": {
          "base_uri": "https://localhost:8080/",
          "height": 36
        },
        "outputId": "1ab5324d-47e5-4c91-fc99-1ffc728b01c0"
      },
      "outputs": [
        {
          "output_type": "execute_result",
          "data": {
            "text/plain": [
              "'Ant'"
            ],
            "application/vnd.google.colaboratory.intrinsic+json": {
              "type": "string"
            }
          },
          "metadata": {},
          "execution_count": 7
        }
      ],
      "source": [
        "# To resize and crop the image, you can use the Resize and CenterCrop transforms\n",
        "# To convert the image to a tensor and normalize its pixel values, you can use \n",
        "# the ToTensor and Normalize \n",
        "\n",
        "from PIL import Image\n",
        "\n",
        "transform_test = transforms.Compose([\n",
        "    transforms.Resize(256),\n",
        "    transforms.CenterCrop(224),\n",
        "    transforms.ToTensor(),\n",
        "    transforms.Normalize(mean_data, std_data)\n",
        "])\n",
        "\n",
        "\n",
        "X_test = Image.open('/content/drive/MyDrive/Colab Notebooks/test_resnet50/hormiga1.jpg')\n",
        "image_tensor = transform_test(X_test)\n",
        "image_tensor = image_tensor.unsqueeze(0)\n",
        "\n",
        "image_tensor = image_tensor.to(device)\n",
        "\n",
        "y_pred = model(image_tensor)\n",
        "_, pred = torch.max(y_pred, 1)\n",
        "label_dic[pred.item()]"
      ]
    },
    {
      "cell_type": "code",
      "source": [
        "X_test = Image.open('/content/drive/MyDrive/Colab Notebooks/test_resnet50/hormiga2.jpg')\n",
        "image_tensor = transform_test(X_test)\n",
        "image_tensor = image_tensor.unsqueeze(0)\n",
        "\n",
        "image_tensor = image_tensor.to(device)\n",
        "\n",
        "y_pred = model(image_tensor)\n",
        "_, pred = torch.max(y_pred, 1)\n",
        "label_dic[pred.item()]"
      ],
      "metadata": {
        "id": "WyUdFftrXK6v",
        "colab": {
          "base_uri": "https://localhost:8080/",
          "height": 36
        },
        "outputId": "aac85d53-070a-4bd4-9a3f-407ddc0a2a25"
      },
      "execution_count": 8,
      "outputs": [
        {
          "output_type": "execute_result",
          "data": {
            "text/plain": [
              "'Ant'"
            ],
            "application/vnd.google.colaboratory.intrinsic+json": {
              "type": "string"
            }
          },
          "metadata": {},
          "execution_count": 8
        }
      ]
    },
    {
      "cell_type": "code",
      "source": [
        "X_test = Image.open('/content/drive/MyDrive/Colab Notebooks/test_resnet50/aveja1.jpg')\n",
        "image_tensor = transform_test(X_test)\n",
        "image_tensor = image_tensor.unsqueeze(0)\n",
        "\n",
        "image_tensor = image_tensor.to(device)\n",
        "\n",
        "y_pred = model(image_tensor)\n",
        "_, pred = torch.max(y_pred, 1)\n",
        "label_dic[pred.item()]"
      ],
      "metadata": {
        "colab": {
          "base_uri": "https://localhost:8080/",
          "height": 36
        },
        "id": "X8Ob14KW7yNd",
        "outputId": "576d5596-b93c-4984-ffc9-b7d888c5bdc1"
      },
      "execution_count": 9,
      "outputs": [
        {
          "output_type": "execute_result",
          "data": {
            "text/plain": [
              "'Bee'"
            ],
            "application/vnd.google.colaboratory.intrinsic+json": {
              "type": "string"
            }
          },
          "metadata": {},
          "execution_count": 9
        }
      ]
    },
    {
      "cell_type": "code",
      "source": [
        "X_test = Image.open('/content/drive/MyDrive/Colab Notebooks/test_resnet50/aveja2.jpg')\n",
        "image_tensor = transform_test(X_test)\n",
        "image_tensor = image_tensor.unsqueeze(0)\n",
        "\n",
        "image_tensor = image_tensor.to(device)\n",
        "\n",
        "y_pred = model(image_tensor)\n",
        "_, pred = torch.max(y_pred, 1)\n",
        "label_dic[pred.item()]"
      ],
      "metadata": {
        "colab": {
          "base_uri": "https://localhost:8080/",
          "height": 36
        },
        "id": "vJ6Hvffx7yo0",
        "outputId": "1956c8fe-7b41-4f3c-cdb5-55c1887bf1f4"
      },
      "execution_count": 10,
      "outputs": [
        {
          "output_type": "execute_result",
          "data": {
            "text/plain": [
              "'Bee'"
            ],
            "application/vnd.google.colaboratory.intrinsic+json": {
              "type": "string"
            }
          },
          "metadata": {},
          "execution_count": 10
        }
      ]
    }
  ],
  "metadata": {
    "accelerator": "GPU",
    "colab": {
      "provenance": []
    },
    "gpuClass": "standard",
    "kernelspec": {
      "display_name": "Python 3.8.8 ('redes')",
      "language": "python",
      "name": "python3"
    },
    "language_info": {
      "codemirror_mode": {
        "name": "ipython",
        "version": 3
      },
      "file_extension": ".py",
      "mimetype": "text/x-python",
      "name": "python",
      "nbconvert_exporter": "python",
      "pygments_lexer": "ipython3",
      "version": "3.8.8"
    },
    "vscode": {
      "interpreter": {
        "hash": "466813897a52447f1831c184b0700fb7b7f042a70becf90568dd3beaa877b3ca"
      }
    },
    "widgets": {
      "application/vnd.jupyter.widget-state+json": {
        "1a04c80f11ee47d599941c550ea38e3a": {
          "model_module": "@jupyter-widgets/controls",
          "model_name": "HBoxModel",
          "model_module_version": "1.5.0",
          "state": {
            "_dom_classes": [],
            "_model_module": "@jupyter-widgets/controls",
            "_model_module_version": "1.5.0",
            "_model_name": "HBoxModel",
            "_view_count": null,
            "_view_module": "@jupyter-widgets/controls",
            "_view_module_version": "1.5.0",
            "_view_name": "HBoxView",
            "box_style": "",
            "children": [
              "IPY_MODEL_e1874c5cc90d4543b4f5b516c5391f54",
              "IPY_MODEL_5cb7b9dc44dc4417843a866032f7353f",
              "IPY_MODEL_51d2680970c449e4ad4d5772c3458596"
            ],
            "layout": "IPY_MODEL_232f827be7674cf79a188b709b072bea"
          }
        },
        "e1874c5cc90d4543b4f5b516c5391f54": {
          "model_module": "@jupyter-widgets/controls",
          "model_name": "HTMLModel",
          "model_module_version": "1.5.0",
          "state": {
            "_dom_classes": [],
            "_model_module": "@jupyter-widgets/controls",
            "_model_module_version": "1.5.0",
            "_model_name": "HTMLModel",
            "_view_count": null,
            "_view_module": "@jupyter-widgets/controls",
            "_view_module_version": "1.5.0",
            "_view_name": "HTMLView",
            "description": "",
            "description_tooltip": null,
            "layout": "IPY_MODEL_f2d01a0cf1794d60be8497b8aa930ea4",
            "placeholder": "​",
            "style": "IPY_MODEL_a38b35b9361a4965885a14e623b77fdd",
            "value": "100%"
          }
        },
        "5cb7b9dc44dc4417843a866032f7353f": {
          "model_module": "@jupyter-widgets/controls",
          "model_name": "FloatProgressModel",
          "model_module_version": "1.5.0",
          "state": {
            "_dom_classes": [],
            "_model_module": "@jupyter-widgets/controls",
            "_model_module_version": "1.5.0",
            "_model_name": "FloatProgressModel",
            "_view_count": null,
            "_view_module": "@jupyter-widgets/controls",
            "_view_module_version": "1.5.0",
            "_view_name": "ProgressView",
            "bar_style": "success",
            "description": "",
            "description_tooltip": null,
            "layout": "IPY_MODEL_b7d7660b694741d9920c0f266c5cb887",
            "max": 102530333,
            "min": 0,
            "orientation": "horizontal",
            "style": "IPY_MODEL_5c196b93a8644f9c97357d0fc0427347",
            "value": 102530333
          }
        },
        "51d2680970c449e4ad4d5772c3458596": {
          "model_module": "@jupyter-widgets/controls",
          "model_name": "HTMLModel",
          "model_module_version": "1.5.0",
          "state": {
            "_dom_classes": [],
            "_model_module": "@jupyter-widgets/controls",
            "_model_module_version": "1.5.0",
            "_model_name": "HTMLModel",
            "_view_count": null,
            "_view_module": "@jupyter-widgets/controls",
            "_view_module_version": "1.5.0",
            "_view_name": "HTMLView",
            "description": "",
            "description_tooltip": null,
            "layout": "IPY_MODEL_156ff24070a24fcdb0eb933fa8aed04a",
            "placeholder": "​",
            "style": "IPY_MODEL_f28afbe6c83342c5bf3b12fa4ba44284",
            "value": " 97.8M/97.8M [00:00&lt;00:00, 161MB/s]"
          }
        },
        "232f827be7674cf79a188b709b072bea": {
          "model_module": "@jupyter-widgets/base",
          "model_name": "LayoutModel",
          "model_module_version": "1.2.0",
          "state": {
            "_model_module": "@jupyter-widgets/base",
            "_model_module_version": "1.2.0",
            "_model_name": "LayoutModel",
            "_view_count": null,
            "_view_module": "@jupyter-widgets/base",
            "_view_module_version": "1.2.0",
            "_view_name": "LayoutView",
            "align_content": null,
            "align_items": null,
            "align_self": null,
            "border": null,
            "bottom": null,
            "display": null,
            "flex": null,
            "flex_flow": null,
            "grid_area": null,
            "grid_auto_columns": null,
            "grid_auto_flow": null,
            "grid_auto_rows": null,
            "grid_column": null,
            "grid_gap": null,
            "grid_row": null,
            "grid_template_areas": null,
            "grid_template_columns": null,
            "grid_template_rows": null,
            "height": null,
            "justify_content": null,
            "justify_items": null,
            "left": null,
            "margin": null,
            "max_height": null,
            "max_width": null,
            "min_height": null,
            "min_width": null,
            "object_fit": null,
            "object_position": null,
            "order": null,
            "overflow": null,
            "overflow_x": null,
            "overflow_y": null,
            "padding": null,
            "right": null,
            "top": null,
            "visibility": null,
            "width": null
          }
        },
        "f2d01a0cf1794d60be8497b8aa930ea4": {
          "model_module": "@jupyter-widgets/base",
          "model_name": "LayoutModel",
          "model_module_version": "1.2.0",
          "state": {
            "_model_module": "@jupyter-widgets/base",
            "_model_module_version": "1.2.0",
            "_model_name": "LayoutModel",
            "_view_count": null,
            "_view_module": "@jupyter-widgets/base",
            "_view_module_version": "1.2.0",
            "_view_name": "LayoutView",
            "align_content": null,
            "align_items": null,
            "align_self": null,
            "border": null,
            "bottom": null,
            "display": null,
            "flex": null,
            "flex_flow": null,
            "grid_area": null,
            "grid_auto_columns": null,
            "grid_auto_flow": null,
            "grid_auto_rows": null,
            "grid_column": null,
            "grid_gap": null,
            "grid_row": null,
            "grid_template_areas": null,
            "grid_template_columns": null,
            "grid_template_rows": null,
            "height": null,
            "justify_content": null,
            "justify_items": null,
            "left": null,
            "margin": null,
            "max_height": null,
            "max_width": null,
            "min_height": null,
            "min_width": null,
            "object_fit": null,
            "object_position": null,
            "order": null,
            "overflow": null,
            "overflow_x": null,
            "overflow_y": null,
            "padding": null,
            "right": null,
            "top": null,
            "visibility": null,
            "width": null
          }
        },
        "a38b35b9361a4965885a14e623b77fdd": {
          "model_module": "@jupyter-widgets/controls",
          "model_name": "DescriptionStyleModel",
          "model_module_version": "1.5.0",
          "state": {
            "_model_module": "@jupyter-widgets/controls",
            "_model_module_version": "1.5.0",
            "_model_name": "DescriptionStyleModel",
            "_view_count": null,
            "_view_module": "@jupyter-widgets/base",
            "_view_module_version": "1.2.0",
            "_view_name": "StyleView",
            "description_width": ""
          }
        },
        "b7d7660b694741d9920c0f266c5cb887": {
          "model_module": "@jupyter-widgets/base",
          "model_name": "LayoutModel",
          "model_module_version": "1.2.0",
          "state": {
            "_model_module": "@jupyter-widgets/base",
            "_model_module_version": "1.2.0",
            "_model_name": "LayoutModel",
            "_view_count": null,
            "_view_module": "@jupyter-widgets/base",
            "_view_module_version": "1.2.0",
            "_view_name": "LayoutView",
            "align_content": null,
            "align_items": null,
            "align_self": null,
            "border": null,
            "bottom": null,
            "display": null,
            "flex": null,
            "flex_flow": null,
            "grid_area": null,
            "grid_auto_columns": null,
            "grid_auto_flow": null,
            "grid_auto_rows": null,
            "grid_column": null,
            "grid_gap": null,
            "grid_row": null,
            "grid_template_areas": null,
            "grid_template_columns": null,
            "grid_template_rows": null,
            "height": null,
            "justify_content": null,
            "justify_items": null,
            "left": null,
            "margin": null,
            "max_height": null,
            "max_width": null,
            "min_height": null,
            "min_width": null,
            "object_fit": null,
            "object_position": null,
            "order": null,
            "overflow": null,
            "overflow_x": null,
            "overflow_y": null,
            "padding": null,
            "right": null,
            "top": null,
            "visibility": null,
            "width": null
          }
        },
        "5c196b93a8644f9c97357d0fc0427347": {
          "model_module": "@jupyter-widgets/controls",
          "model_name": "ProgressStyleModel",
          "model_module_version": "1.5.0",
          "state": {
            "_model_module": "@jupyter-widgets/controls",
            "_model_module_version": "1.5.0",
            "_model_name": "ProgressStyleModel",
            "_view_count": null,
            "_view_module": "@jupyter-widgets/base",
            "_view_module_version": "1.2.0",
            "_view_name": "StyleView",
            "bar_color": null,
            "description_width": ""
          }
        },
        "156ff24070a24fcdb0eb933fa8aed04a": {
          "model_module": "@jupyter-widgets/base",
          "model_name": "LayoutModel",
          "model_module_version": "1.2.0",
          "state": {
            "_model_module": "@jupyter-widgets/base",
            "_model_module_version": "1.2.0",
            "_model_name": "LayoutModel",
            "_view_count": null,
            "_view_module": "@jupyter-widgets/base",
            "_view_module_version": "1.2.0",
            "_view_name": "LayoutView",
            "align_content": null,
            "align_items": null,
            "align_self": null,
            "border": null,
            "bottom": null,
            "display": null,
            "flex": null,
            "flex_flow": null,
            "grid_area": null,
            "grid_auto_columns": null,
            "grid_auto_flow": null,
            "grid_auto_rows": null,
            "grid_column": null,
            "grid_gap": null,
            "grid_row": null,
            "grid_template_areas": null,
            "grid_template_columns": null,
            "grid_template_rows": null,
            "height": null,
            "justify_content": null,
            "justify_items": null,
            "left": null,
            "margin": null,
            "max_height": null,
            "max_width": null,
            "min_height": null,
            "min_width": null,
            "object_fit": null,
            "object_position": null,
            "order": null,
            "overflow": null,
            "overflow_x": null,
            "overflow_y": null,
            "padding": null,
            "right": null,
            "top": null,
            "visibility": null,
            "width": null
          }
        },
        "f28afbe6c83342c5bf3b12fa4ba44284": {
          "model_module": "@jupyter-widgets/controls",
          "model_name": "DescriptionStyleModel",
          "model_module_version": "1.5.0",
          "state": {
            "_model_module": "@jupyter-widgets/controls",
            "_model_module_version": "1.5.0",
            "_model_name": "DescriptionStyleModel",
            "_view_count": null,
            "_view_module": "@jupyter-widgets/base",
            "_view_module_version": "1.2.0",
            "_view_name": "StyleView",
            "description_width": ""
          }
        }
      }
    }
  },
  "nbformat": 4,
  "nbformat_minor": 0
}